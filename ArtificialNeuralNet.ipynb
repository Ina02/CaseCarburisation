{
  "nbformat": 4,
  "nbformat_minor": 0,
  "metadata": {
    "kernelspec": {
      "display_name": "Python 3",
      "language": "python",
      "name": "python3"
    },
    "language_info": {
      "codemirror_mode": {
        "name": "ipython",
        "version": 3
      },
      "file_extension": ".py",
      "mimetype": "text/x-python",
      "name": "python",
      "nbconvert_exporter": "python",
      "pygments_lexer": "ipython3",
      "version": "3.7.4"
    },
    "colab": {
      "name": "00-Deep-Nets-with-TF-Abstractions-checkpoint.ipynb",
      "provenance": [],
      "collapsed_sections": [
        "P0sMq47RIKAc",
        "I9dNRTgpIKAg",
        "xClRrvp9IKAo",
        "4yAu47ONIKA3",
        "xt8NofPhIKBH",
        "SymNIIm1IKBL",
        "yEYnakDAIKBN",
        "05t35MObIKBQ",
        "_diPG7RFIKBZ",
        "0GzkVHN-IKBb",
        "M1InUrgSIKBd"
      ],
      "toc_visible": true
    }
  },
  "cells": [
    {
      "cell_type": "markdown",
      "metadata": {
        "id": "_shrSg3GIJ_V"
      },
      "source": [
        "# Deep Nets with TF Abstractions\n"
      ]
    },
    {
      "cell_type": "markdown",
      "metadata": {
        "id": "goiqrwjXIJ_Y"
      },
      "source": [
        "# The Data"
      ]
    },
    {
      "cell_type": "code",
      "metadata": {
        "id": "t3XMSRv0IJ_Z"
      },
      "source": [
        "#from sklearn.datasets import load_wine\n",
        "import pandas as pd\n",
        "import numpy"
      ],
      "execution_count": null,
      "outputs": []
    },
    {
      "cell_type": "code",
      "metadata": {
        "id": "HU7HSVoHIJ_u"
      },
      "source": [
        "dataset = pd.read_csv(\"/content/Ina_New.csv\")\n",
        "\n",
        "feat_data = dataset[['C', 'Cr', 'Mn', 'Ni', 'Si', 'CR']].values\n",
        "labels = dataset['Hardness'].values"
      ],
      "execution_count": null,
      "outputs": []
    },
    {
      "cell_type": "code",
      "metadata": {
        "id": "Gwq3IrPaIJ_y",
        "colab": {
          "base_uri": "https://localhost:8080/",
          "height": 34
        },
        "outputId": "c0f3df41-f6f3-4afb-fc67-d04cf0a315e7"
      },
      "source": [
        "a = numpy.array(labels, dtype=numpy.float64)\n",
        "labels = a.astype(numpy.int64)\n",
        "k = set()\n",
        "\n",
        "for l in labels:\n",
        "  k.add(l)\n",
        "\n",
        "len(list(k))\n"
      ],
      "execution_count": null,
      "outputs": [
        {
          "output_type": "execute_result",
          "data": {
            "text/plain": [
              "657"
            ]
          },
          "metadata": {
            "tags": []
          },
          "execution_count": 191
        }
      ]
    },
    {
      "cell_type": "markdown",
      "metadata": {
        "id": "ljLOEp67IJ_1"
      },
      "source": [
        "### Train Test Split"
      ]
    },
    {
      "cell_type": "code",
      "metadata": {
        "id": "SbSlWQocIJ_1"
      },
      "source": [
        "from sklearn.model_selection import train_test_split"
      ],
      "execution_count": null,
      "outputs": []
    },
    {
      "cell_type": "code",
      "metadata": {
        "id": "TMdnR48lIJ_4"
      },
      "source": [
        "X_train, X_test, y_train, y_test = train_test_split(feat_data,\n",
        "                                                    labels,\n",
        "                                                    test_size=0.3,\n",
        "                                                   random_state=101)"
      ],
      "execution_count": null,
      "outputs": []
    },
    {
      "cell_type": "markdown",
      "metadata": {
        "id": "QRTncumBIJ_6"
      },
      "source": [
        "### Scale the Data"
      ]
    },
    {
      "cell_type": "code",
      "metadata": {
        "id": "z0r-E8FKIJ_7"
      },
      "source": [
        "from sklearn.preprocessing import MinMaxScaler"
      ],
      "execution_count": null,
      "outputs": []
    },
    {
      "cell_type": "code",
      "metadata": {
        "id": "1xox03eeIJ__"
      },
      "source": [
        "scaler = MinMaxScaler()"
      ],
      "execution_count": null,
      "outputs": []
    },
    {
      "cell_type": "code",
      "metadata": {
        "id": "hmVjvOwNIKAB"
      },
      "source": [
        "scaled_x_train = scaler.fit_transform(X_train)"
      ],
      "execution_count": null,
      "outputs": []
    },
    {
      "cell_type": "code",
      "metadata": {
        "id": "cv4QcGpXIKAD"
      },
      "source": [
        "scaled_x_test = scaler.transform(X_test)"
      ],
      "execution_count": null,
      "outputs": []
    },
    {
      "cell_type": "markdown",
      "metadata": {
        "id": "a6F_lZ_9IKAF"
      },
      "source": [
        "# Abstractions"
      ]
    },
    {
      "cell_type": "markdown",
      "metadata": {
        "id": "aTd0sO8EIKAG"
      },
      "source": [
        "## Estimator API"
      ]
    },
    {
      "cell_type": "code",
      "metadata": {
        "id": "8KP26R9-IKAG"
      },
      "source": [
        "import tensorflow as tf"
      ],
      "execution_count": null,
      "outputs": []
    },
    {
      "cell_type": "code",
      "metadata": {
        "id": "oZ0POFu9IKAI"
      },
      "source": [
        "from tensorflow import estimator "
      ],
      "execution_count": null,
      "outputs": []
    },
    {
      "cell_type": "code",
      "metadata": {
        "id": "50VHErfKIKAK",
        "colab": {
          "base_uri": "https://localhost:8080/",
          "height": 34
        },
        "outputId": "b3b23b55-d798-44fd-c1b2-e6cf3bf9777a"
      },
      "source": [
        "X_train.shape"
      ],
      "execution_count": null,
      "outputs": [
        {
          "output_type": "execute_result",
          "data": {
            "text/plain": [
              "(6977, 6)"
            ]
          },
          "metadata": {
            "tags": []
          },
          "execution_count": 200
        }
      ]
    },
    {
      "cell_type": "code",
      "metadata": {
        "id": "asF3fEjmIKAM"
      },
      "source": [
        "feat_cols = [tf.feature_column.numeric_column(\"x\", shape=[6])]"
      ],
      "execution_count": null,
      "outputs": []
    },
    {
      "cell_type": "code",
      "metadata": {
        "id": "wwEkdQEBIKAN",
        "colab": {
          "base_uri": "https://localhost:8080/",
          "height": 190
        },
        "outputId": "92f74f43-af68-4b4c-ebae-4ff42917f61f"
      },
      "source": [
        "deep_model = estimator.DNNClassifier(hidden_units=[13, 13, 13],\n",
        "                            feature_columns=feat_cols,\n",
        "                            n_classes=1077,\n",
        "                            optimizer=tf.train.GradientDescentOptimizer(learning_rate=0.01) )"
      ],
      "execution_count": null,
      "outputs": [
        {
          "output_type": "stream",
          "text": [
            "INFO:tensorflow:Using default config.\n",
            "WARNING:tensorflow:Using temporary folder as model directory: /tmp/tmpdtr481a6\n",
            "INFO:tensorflow:Using config: {'_model_dir': '/tmp/tmpdtr481a6', '_tf_random_seed': None, '_save_summary_steps': 100, '_save_checkpoints_steps': None, '_save_checkpoints_secs': 600, '_session_config': allow_soft_placement: true\n",
            "graph_options {\n",
            "  rewrite_options {\n",
            "    meta_optimizer_iterations: ONE\n",
            "  }\n",
            "}\n",
            ", '_keep_checkpoint_max': 5, '_keep_checkpoint_every_n_hours': 10000, '_log_step_count_steps': 100, '_train_distribute': None, '_device_fn': None, '_protocol': None, '_eval_distribute': None, '_experimental_distribute': None, '_experimental_max_worker_delay_secs': None, '_session_creation_timeout_secs': 7200, '_service': None, '_cluster_spec': <tensorflow.python.training.server_lib.ClusterSpec object at 0x7fbbeaf2bc88>, '_task_type': 'worker', '_task_id': 0, '_global_id_in_cluster': 0, '_master': '', '_evaluation_master': '', '_is_chief': True, '_num_ps_replicas': 0, '_num_worker_replicas': 1}\n"
          ],
          "name": "stdout"
        }
      ]
    },
    {
      "cell_type": "code",
      "metadata": {
        "id": "UmE__Lt2IKAP"
      },
      "source": [
        "input_fn = estimator.inputs.numpy_input_fn(x={'x':scaled_x_train},y=y_train,shuffle=True,batch_size=10,num_epochs=5)"
      ],
      "execution_count": null,
      "outputs": []
    },
    {
      "cell_type": "code",
      "metadata": {
        "id": "xXbVmo0b1L3P",
        "colab": {
          "base_uri": "https://localhost:8080/",
          "height": 136
        },
        "outputId": "a8099162-bcf8-49a7-cd9e-f342a54808f7"
      },
      "source": [
        "print(y_train, scaled_x_train)"
      ],
      "execution_count": null,
      "outputs": [
        {
          "output_type": "stream",
          "text": [
            "[283 563 564 ... 531 127 365] [[0.         0.         0.         0.5        0.33333333 0.3877551 ]\n",
            " [0.42857143 0.         0.31034483 0.5        1.         0.12244898]\n",
            " [1.         0.         0.         1.         0.33333333 0.12244898]\n",
            " ...\n",
            " [1.         1.         0.31034483 0.         0.         0.79591837]\n",
            " [0.         1.         0.31034483 1.         0.         0.06122449]\n",
            " [0.         0.1        0.31034483 0.5        0.33333333 0.14285714]]\n"
          ],
          "name": "stdout"
        }
      ]
    },
    {
      "cell_type": "code",
      "metadata": {
        "scrolled": true,
        "id": "BtM94WGZIKAR",
        "colab": {
          "base_uri": "https://localhost:8080/",
          "height": 340
        },
        "outputId": "eeae19a4-94e3-4d45-e903-22da113840ef"
      },
      "source": [
        "deep_model.train(input_fn=input_fn,steps=500)"
      ],
      "execution_count": null,
      "outputs": [
        {
          "output_type": "stream",
          "text": [
            "INFO:tensorflow:Calling model_fn.\n",
            "INFO:tensorflow:Done calling model_fn.\n",
            "INFO:tensorflow:Create CheckpointSaverHook.\n",
            "INFO:tensorflow:Graph was finalized.\n",
            "INFO:tensorflow:Running local_init_op.\n",
            "INFO:tensorflow:Done running local_init_op.\n",
            "INFO:tensorflow:Saving checkpoints for 0 into /tmp/tmpdtr481a6/model.ckpt.\n",
            "INFO:tensorflow:loss = 69.971176, step = 1\n",
            "INFO:tensorflow:global_step/sec: 462.206\n",
            "INFO:tensorflow:loss = 69.611664, step = 101 (0.220 sec)\n",
            "INFO:tensorflow:global_step/sec: 612.634\n",
            "INFO:tensorflow:loss = 69.73984, step = 201 (0.161 sec)\n",
            "INFO:tensorflow:global_step/sec: 570.242\n",
            "INFO:tensorflow:loss = 61.4236, step = 301 (0.176 sec)\n",
            "INFO:tensorflow:global_step/sec: 633.604\n",
            "INFO:tensorflow:loss = 64.00861, step = 401 (0.157 sec)\n",
            "INFO:tensorflow:Saving checkpoints for 500 into /tmp/tmpdtr481a6/model.ckpt.\n",
            "INFO:tensorflow:Loss for final step: 60.058613.\n"
          ],
          "name": "stdout"
        },
        {
          "output_type": "execute_result",
          "data": {
            "text/plain": [
              "<tensorflow_estimator.python.estimator.canned.dnn.DNNClassifier at 0x7fbbeaf2b6a0>"
            ]
          },
          "metadata": {
            "tags": []
          },
          "execution_count": 205
        }
      ]
    },
    {
      "cell_type": "code",
      "metadata": {
        "id": "xq09fPxkIKAS"
      },
      "source": [
        "input_fn_eval = estimator.inputs.numpy_input_fn(x={'x':scaled_x_test},shuffle=False)"
      ],
      "execution_count": null,
      "outputs": []
    },
    {
      "cell_type": "code",
      "metadata": {
        "id": "H7Izh8SrIKAU",
        "colab": {
          "base_uri": "https://localhost:8080/",
          "height": 119
        },
        "outputId": "b84ae8de-2f6f-403e-ba5c-23a07d2fec8a"
      },
      "source": [
        "preds = list(deep_model.predict(input_fn=input_fn_eval))"
      ],
      "execution_count": null,
      "outputs": [
        {
          "output_type": "stream",
          "text": [
            "INFO:tensorflow:Calling model_fn.\n",
            "INFO:tensorflow:Done calling model_fn.\n",
            "INFO:tensorflow:Graph was finalized.\n",
            "INFO:tensorflow:Restoring parameters from /tmp/tmpdtr481a6/model.ckpt-500\n",
            "INFO:tensorflow:Running local_init_op.\n",
            "INFO:tensorflow:Done running local_init_op.\n"
          ],
          "name": "stdout"
        }
      ]
    },
    {
      "cell_type": "code",
      "metadata": {
        "id": "wdbNu65XIKAV"
      },
      "source": [
        "predictions = [p['class_ids'][0] for p in preds]"
      ],
      "execution_count": null,
      "outputs": []
    },
    {
      "cell_type": "code",
      "metadata": {
        "id": "dY0oStlZIKAY"
      },
      "source": [
        "from sklearn.metrics import confusion_matrix,classification_report"
      ],
      "execution_count": null,
      "outputs": []
    },
    {
      "cell_type": "code",
      "metadata": {
        "id": "YRgjtwoAIKAZ",
        "colab": {
          "base_uri": "https://localhost:8080/",
          "height": 1000
        },
        "outputId": "73ce9705-e1b4-48f0-b68b-33d1e9562bbb"
      },
      "source": [
        "print(classification_report(y_test,predictions))"
      ],
      "execution_count": null,
      "outputs": [
        {
          "output_type": "stream",
          "text": [
            "              precision    recall  f1-score   support\n",
            "\n",
            "         104       0.00      0.00      0.00         6\n",
            "         105       0.00      0.00      0.00         5\n",
            "         108       0.00      0.00      0.00         9\n",
            "         109       0.00      0.00      0.00        11\n",
            "         111       0.00      0.00      0.00         4\n",
            "         112       0.00      0.00      0.00        10\n",
            "         113       0.00      0.00      0.00         5\n",
            "         115       0.00      0.00      0.00         4\n",
            "         116       0.00      0.00      0.00         6\n",
            "         117       0.00      0.00      0.00        21\n",
            "         120       0.00      0.00      0.00        20\n",
            "         121       0.00      0.00      0.00         7\n",
            "         123       0.00      0.00      0.00        12\n",
            "         126       0.00      0.00      0.00         6\n",
            "         127       0.00      0.00      0.00         2\n",
            "         128       0.00      0.00      0.00         5\n",
            "         130       0.00      0.00      0.00         3\n",
            "         131       0.00      0.00      0.00         2\n",
            "         140       0.00      0.00      0.00         1\n",
            "         141       0.00      0.00      0.00         1\n",
            "         145       0.00      0.00      0.00         4\n",
            "         147       0.00      0.00      0.00         4\n",
            "         148       0.00      0.00      0.00        16\n",
            "         149       0.00      0.00      0.00        13\n",
            "         150       0.00      0.00      0.00         5\n",
            "         151       0.00      0.00      0.00         5\n",
            "         152       0.00      0.00      0.00         4\n",
            "         153       0.00      0.00      0.00         2\n",
            "         154       0.00      0.00      0.00         6\n",
            "         155       0.00      0.00      0.00         9\n",
            "         156       0.00      0.00      0.00         9\n",
            "         157       0.00      0.00      0.00        17\n",
            "         158       0.00      0.00      0.00        11\n",
            "         159       0.00      0.00      0.00         1\n",
            "         165       0.00      0.00      0.00         5\n",
            "         166       0.00      0.00      0.00         5\n",
            "         167       0.00      0.00      0.00         8\n",
            "         169       0.00      0.00      0.00         5\n",
            "         170       0.00      0.00      0.00        17\n",
            "         171       0.00      0.00      0.00         8\n",
            "         172       0.00      0.00      0.00         1\n",
            "         173       0.00      0.00      0.00         5\n",
            "         174       0.00      0.00      0.00         7\n",
            "         175       0.00      0.00      0.00        13\n",
            "         176       0.00      0.00      0.00        12\n",
            "         177       0.00      0.00      0.00        11\n",
            "         178       0.00      0.00      0.00        19\n",
            "         179       0.00      0.00      0.00         2\n",
            "         180       0.00      0.00      0.00         9\n",
            "         181       0.00      0.00      0.00         6\n",
            "         182       0.00      0.00      0.00         6\n",
            "         183       0.00      0.00      0.00         9\n",
            "         185       0.00      0.00      0.00        13\n",
            "         186       0.00      0.00      0.00        10\n",
            "         187       0.00      0.00      0.00         6\n",
            "         188       0.00      0.00      0.00         8\n",
            "         189       0.00      0.00      0.00        28\n",
            "         190       0.00      0.00      0.00         8\n",
            "         191       0.00      0.00      0.00        14\n",
            "         192       0.00      0.00      0.00        17\n",
            "         193       0.00      0.00      0.00        11\n",
            "         194       0.00      0.00      0.00        13\n",
            "         195       0.00      0.00      0.00        10\n",
            "         196       0.00      0.00      0.00        14\n",
            "         197       0.00      0.00      0.00         7\n",
            "         198       0.00      0.00      0.00         3\n",
            "         199       0.00      0.00      0.00         1\n",
            "         200       0.00      0.00      0.00        12\n",
            "         201       0.00      0.00      0.00        11\n",
            "         202       0.00      0.00      0.00        11\n",
            "         203       0.00      0.00      0.00        13\n",
            "         204       0.00      0.00      0.00         3\n",
            "         205       0.00      0.00      0.00         6\n",
            "         206       0.00      0.00      0.00         9\n",
            "         207       0.00      0.00      0.00         7\n",
            "         208       0.00      0.00      0.00         3\n",
            "         209       0.00      0.00      0.00        15\n",
            "         210       0.00      0.00      0.00         7\n",
            "         211       0.00      0.00      0.00         7\n",
            "         213       0.00      0.00      0.00        10\n",
            "         214       0.00      0.00      0.00         7\n",
            "         216       0.00      0.00      0.00         2\n",
            "         217       0.00      0.00      0.00        10\n",
            "         218       0.00      0.00      0.00        15\n",
            "         219       0.00      0.00      0.00         4\n",
            "         220       0.00      0.00      0.00         7\n",
            "         221       0.00      0.00      0.00         4\n",
            "         222       0.00      0.00      0.00        18\n",
            "         223       0.00      0.00      0.00         6\n",
            "         225       0.00      0.00      0.00         7\n",
            "         226       0.00      0.00      0.00        13\n",
            "         228       0.00      0.00      0.00         5\n",
            "         229       0.00      0.00      0.00         1\n",
            "         231       0.00      0.00      0.00        15\n",
            "         232       0.00      0.00      0.00         6\n",
            "         233       0.00      0.00      0.00         4\n",
            "         234       0.00      0.00      0.00         1\n",
            "         235       0.00      0.00      0.00         1\n",
            "         236       0.00      0.00      0.00         1\n",
            "         237       0.00      0.00      0.00         2\n",
            "         238       0.00      0.00      0.00         9\n",
            "         239       0.00      0.00      0.00         8\n",
            "         240       0.00      0.00      0.00        21\n",
            "         241       0.00      0.00      0.00         7\n",
            "         242       0.00      0.00      0.00         5\n",
            "         243       0.00      0.00      0.00        18\n",
            "         244       0.00      0.00      0.00         7\n",
            "         246       0.00      0.00      0.00         3\n",
            "         247       0.00      0.00      0.00         1\n",
            "         248       0.00      0.00      0.00         6\n",
            "         249       0.00      0.00      0.00         3\n",
            "         250       0.00      0.00      0.00         4\n",
            "         251       0.00      0.00      0.00         1\n",
            "         252       0.00      0.00      0.00        20\n",
            "         253       0.00      0.00      0.00         4\n",
            "         254       0.00      0.00      0.00        17\n",
            "         255       0.00      0.00      0.00         7\n",
            "         256       0.00      0.00      0.00        10\n",
            "         257       0.00      0.00      0.00         9\n",
            "         258       0.00      0.00      0.00        10\n",
            "         259       0.00      0.00      0.00         6\n",
            "         260       0.00      0.00      0.00         5\n",
            "         261       0.00      0.00      0.00        11\n",
            "         262       0.00      0.00      0.00         9\n",
            "         263       0.00      0.00      0.00         6\n",
            "         264       0.00      0.00      0.00         5\n",
            "         265       0.00      0.00      0.00        13\n",
            "         266       0.00      0.00      0.00         3\n",
            "         267       0.00      0.00      0.00        10\n",
            "         268       0.00      0.00      0.00         7\n",
            "         269       0.00      0.00      0.00         2\n",
            "         270       0.00      0.00      0.00         3\n",
            "         271       0.00      0.00      0.00         2\n",
            "         272       0.00      0.00      0.00         8\n",
            "         273       0.00      0.00      0.00        14\n",
            "         274       0.00      0.00      0.00        14\n",
            "         275       0.00      0.00      0.00         5\n",
            "         276       0.00      0.00      0.00        18\n",
            "         277       0.00      0.00      0.00         1\n",
            "         278       0.00      0.00      0.00         2\n",
            "         279       0.00      0.00      0.00         9\n",
            "         280       0.00      0.00      0.00         1\n",
            "         281       0.00      0.00      0.00         4\n",
            "         282       0.00      0.00      0.00         4\n",
            "         283       0.00      0.00      0.00        12\n",
            "         284       0.00      0.00      0.00         1\n",
            "         285       0.00      0.00      0.00         4\n",
            "         286       0.00      0.00      0.00         2\n",
            "         287       0.00      0.00      0.00         5\n",
            "         288       0.00      0.00      0.00         2\n",
            "         289       0.00      0.00      0.00         3\n",
            "         290       0.00      0.00      0.00         2\n",
            "         291       0.00      0.00      0.00         4\n",
            "         292       0.00      0.00      0.00         2\n",
            "         293       0.00      0.00      0.00         2\n",
            "         295       0.00      0.00      0.00        21\n",
            "         296       0.00      0.00      0.00         7\n",
            "         297       0.00      0.00      0.00         5\n",
            "         298       0.00      0.00      0.00         2\n",
            "         299       0.00      0.00      0.00        15\n",
            "         300       0.00      0.00      0.00         4\n",
            "         301       0.00      0.00      0.00         1\n",
            "         302       0.00      0.00      0.00         1\n",
            "         303       0.00      0.00      0.00         1\n",
            "         304       0.00      0.00      0.00        15\n",
            "         305       0.00      0.00      0.00         5\n",
            "         306       0.00      0.00      0.00        21\n",
            "         308       0.00      0.00      0.00         2\n",
            "         309       0.00      0.00      0.00         5\n",
            "         310       0.00      0.00      0.00         2\n",
            "         312       0.00      0.00      0.00         1\n",
            "         313       0.00      0.00      0.00         3\n",
            "         314       0.00      0.00      0.00         5\n",
            "         315       0.00      0.00      0.00         7\n",
            "         316       0.00      0.00      0.00         3\n",
            "         317       0.00      0.00      0.00        13\n",
            "         318       0.00      0.00      0.00         3\n",
            "         319       0.00      0.00      0.00         6\n",
            "         320       0.00      0.00      0.00         6\n",
            "         321       0.00      0.00      0.00         6\n",
            "         322       0.00      0.00      0.00         5\n",
            "         323       0.00      0.00      0.00         2\n",
            "         324       0.00      0.00      0.00         1\n",
            "         325       0.00      0.00      0.00         3\n",
            "         326       0.00      0.00      0.00         1\n",
            "         327       0.00      0.00      0.00         8\n",
            "         328       0.00      0.00      0.00         3\n",
            "         329       0.00      0.00      0.00         9\n",
            "         330       0.00      0.00      0.00         1\n",
            "         331       0.00      0.00      0.00         9\n",
            "         332       0.00      0.00      0.00         7\n",
            "         333       0.00      0.00      0.00        17\n",
            "         334       0.00      0.00      0.00         2\n",
            "         335       0.00      0.00      0.00        18\n",
            "         336       0.00      0.00      0.00         3\n",
            "         337       0.00      0.00      0.00         6\n",
            "         338       0.00      0.00      0.00         3\n",
            "         339       0.00      0.00      0.00         6\n",
            "         341       0.00      0.00      0.00         6\n",
            "         342       0.00      0.00      0.00        17\n",
            "         343       0.00      0.00      0.00         2\n",
            "         344       0.00      0.00      0.00         6\n",
            "         345       0.00      0.00      0.00         4\n",
            "         346       0.00      0.00      0.00         4\n",
            "         347       0.00      0.00      0.00         2\n",
            "         348       0.00      0.00      0.00         2\n",
            "         349       0.00      0.00      0.00         2\n",
            "         350       0.00      0.00      0.00         3\n",
            "         351       0.00      0.00      0.00         2\n",
            "         352       0.00      0.00      0.00         2\n",
            "         354       0.00      0.00      0.00         2\n",
            "         355       0.00      0.00      0.00        10\n",
            "         357       0.00      0.00      0.00         6\n",
            "         358       0.00      0.00      0.00         8\n",
            "         359       0.00      0.00      0.00         3\n",
            "         360       0.00      0.00      0.00         4\n",
            "         361       0.00      0.00      0.00         6\n",
            "         362       0.00      0.00      0.00         6\n",
            "         363       0.00      0.00      0.00         3\n",
            "         364       0.00      0.00      0.00         4\n",
            "         365       0.00      0.00      0.00        13\n",
            "         366       0.00      0.00      0.00         8\n",
            "         367       0.00      0.00      0.00         5\n",
            "         368       0.00      0.00      0.00        11\n",
            "         369       0.00      0.00      0.00        11\n",
            "         370       0.00      0.00      0.00         5\n",
            "         371       0.00      0.00      0.00         7\n",
            "         372       0.00      0.00      0.00         1\n",
            "         373       0.00      0.00      0.00         4\n",
            "         375       0.00      0.00      0.00         2\n",
            "         376       0.00      0.00      0.00         2\n",
            "         377       0.00      0.00      0.00        10\n",
            "         379       0.00      0.00      0.00         5\n",
            "         380       0.00      0.00      0.00        12\n",
            "         381       0.00      0.00      0.00         1\n",
            "         382       0.00      0.00      0.00        13\n",
            "         383       0.00      0.00      0.00         2\n",
            "         384       0.00      0.00      0.00         3\n",
            "         385       0.00      0.00      0.00        11\n",
            "         386       0.00      0.00      0.00         8\n",
            "         388       0.00      0.00      0.00         5\n",
            "         389       0.00      0.00      0.00         6\n",
            "         392       0.00      0.00      0.00         3\n",
            "         393       0.00      0.00      0.00         1\n",
            "         394       0.00      0.00      0.00         9\n",
            "         395       0.00      0.00      0.00         6\n",
            "         397       0.00      0.00      0.00         9\n",
            "         398       0.00      0.00      0.00        11\n",
            "         399       0.00      0.00      0.00         2\n",
            "         400       0.00      0.00      0.00         2\n",
            "         401       0.00      0.00      0.00        10\n",
            "         402       0.00      0.00      0.00         5\n",
            "         403       0.00      0.00      0.00         9\n",
            "         404       0.00      0.00      0.00        18\n",
            "         406       0.00      0.00      0.00         6\n",
            "         407       0.00      0.00      0.00        11\n",
            "         410       0.00      0.00      0.00         3\n",
            "         411       0.00      0.00      0.00         2\n",
            "         413       0.00      0.00      0.00         1\n",
            "         414       0.00      0.00      0.00         9\n",
            "         415       0.00      0.00      0.00         1\n",
            "         416       0.00      0.00      0.00         5\n",
            "         417       0.00      0.00      0.00         7\n",
            "         418       0.00      0.00      0.00         2\n",
            "         419       0.00      0.00      0.00        20\n",
            "         420       0.00      0.00      0.00         1\n",
            "         421       0.00      0.00      0.00         1\n",
            "         422       0.00      0.00      0.00         1\n",
            "         423       0.00      0.00      0.00         9\n",
            "         424       0.00      0.00      0.00         6\n",
            "         425       0.00      0.00      0.00         4\n",
            "         426       0.00      0.00      0.00         5\n",
            "         427       0.00      0.00      0.00         1\n",
            "         429       0.00      0.00      0.00         2\n",
            "         431       0.00      0.00      0.00         9\n",
            "         432       0.00      0.00      0.00         2\n",
            "         434       0.00      0.00      0.00         9\n",
            "         438       0.00      0.00      0.00         1\n",
            "         440       0.00      0.00      0.00         1\n",
            "         441       0.00      0.00      0.00         1\n",
            "         442       0.00      0.00      0.00         6\n",
            "         443       0.00      0.00      0.00         6\n",
            "         445       0.00      0.00      0.00         1\n",
            "         446       0.00      0.00      0.00         4\n",
            "         447       0.00      0.00      0.00         8\n",
            "         448       0.00      0.00      0.00         2\n",
            "         449       0.00      0.00      0.00         5\n",
            "         450       0.00      0.00      0.00         1\n",
            "         451       0.00      0.00      0.00         4\n",
            "         452       0.00      0.00      0.00         6\n",
            "         453       0.00      0.00      0.00         4\n",
            "         454       0.00      0.00      0.00         8\n",
            "         455       0.00      0.00      0.00         5\n",
            "         457       0.00      0.00      0.00         7\n",
            "         458       0.00      0.00      0.00         1\n",
            "         459       0.00      0.00      0.00         8\n",
            "         461       0.00      0.00      0.00         1\n",
            "         462       0.00      0.00      0.00         7\n",
            "         463       0.00      0.00      0.00         4\n",
            "         464       0.00      0.00      0.00        10\n",
            "         467       0.00      0.00      0.00         3\n",
            "         469       0.00      0.00      0.00         4\n",
            "         470       0.00      0.00      0.00         2\n",
            "         471       0.00      0.00      0.00         1\n",
            "         472       0.00      0.00      0.00         4\n",
            "         473       0.00      0.00      0.00         1\n",
            "         474       0.00      0.00      0.00         5\n",
            "         475       0.00      0.00      0.00         7\n",
            "         476       0.00      0.00      0.00         7\n",
            "         479       0.00      0.00      0.00        13\n",
            "         480       0.00      0.00      0.00         1\n",
            "         481       0.00      0.00      0.00         3\n",
            "         482       0.00      0.00      0.00         6\n",
            "         483       0.00      0.00      0.00         4\n",
            "         484       0.00      0.00      0.00         3\n",
            "         485       0.00      0.00      0.00         3\n",
            "         486       0.00      0.00      0.00         4\n",
            "         487       0.00      0.00      0.00         1\n",
            "         488       0.00      0.00      0.00         1\n",
            "         489       0.00      0.00      0.00         8\n",
            "         490       0.00      0.00      0.00         3\n",
            "         491       0.00      0.00      0.00         5\n",
            "         493       0.00      0.00      0.00         3\n",
            "         494       0.00      0.00      0.00         5\n",
            "         496       0.00      0.00      0.00         8\n",
            "         499       0.00      0.00      0.00         1\n",
            "         500       0.00      0.00      0.00        12\n",
            "         501       0.00      0.00      0.00         6\n",
            "         503       0.00      0.00      0.00         1\n",
            "         505       0.00      0.00      0.00        10\n",
            "         506       0.00      0.00      0.00         1\n",
            "         507       0.00      0.00      0.00         4\n",
            "         508       0.00      0.00      0.00         6\n",
            "         509       0.00      0.00      0.00         8\n",
            "         510       0.00      0.00      0.00         6\n",
            "         511       0.00      0.00      0.00         1\n",
            "         513       0.00      0.00      0.00         1\n",
            "         514       0.00      0.00      0.00        10\n",
            "         515       0.00      0.00      0.00         3\n",
            "         516       0.00      0.00      0.00         2\n",
            "         517       0.00      0.00      0.00         3\n",
            "         518       0.00      0.00      0.00         8\n",
            "         519       0.00      0.00      0.00         3\n",
            "         520       0.00      0.00      0.00         1\n",
            "         521       0.00      0.00      0.00         5\n",
            "         522       0.00      0.00      0.00         4\n",
            "         524       0.00      0.00      0.00         3\n",
            "         525       0.00      0.00      0.00         1\n",
            "         526       0.00      0.00      0.00         2\n",
            "         527       0.00      0.00      0.00         2\n",
            "         530       0.00      0.00      0.00         6\n",
            "         531       0.00      0.00      0.00        10\n",
            "         532       0.00      0.00      0.00         1\n",
            "         533       0.00      0.00      0.00         5\n",
            "         534       0.00      0.00      0.00         1\n",
            "         535       0.00      0.00      0.00         2\n",
            "         537       0.00      0.00      0.00        11\n",
            "         539       0.00      0.00      0.00         1\n",
            "         540       0.00      0.00      0.00         6\n",
            "         541       0.00      0.00      0.00         4\n",
            "         542       0.00      0.00      0.00         1\n",
            "         544       0.00      0.00      0.00         2\n",
            "         547       0.00      0.00      0.00         1\n",
            "         548       0.00      0.00      0.00         2\n",
            "         549       0.00      0.00      0.00         2\n",
            "         550       0.00      0.00      0.00        12\n",
            "         551       0.00      0.00      0.00         1\n",
            "         552       0.00      0.00      0.00         1\n",
            "         554       0.00      0.00      0.00         8\n",
            "         555       0.00      0.00      0.00         4\n",
            "         556       0.00      0.00      0.00         1\n",
            "         558       0.00      0.00      0.00         3\n",
            "         559       0.00      0.00      0.00         8\n",
            "         560       0.00      0.00      0.00         4\n",
            "         561       0.00      0.00      0.00         5\n",
            "         564       0.00      0.00      0.00         3\n",
            "         565       0.00      0.00      0.00         2\n",
            "         566       0.00      0.00      0.00         5\n",
            "         567       0.00      0.00      0.00         2\n",
            "         568       0.00      0.00      0.00         7\n",
            "         569       0.00      0.00      0.00         4\n",
            "         570       0.00      0.00      0.00         3\n",
            "         571       0.00      0.00      0.00         1\n",
            "         572       0.00      0.00      0.00         6\n",
            "         573       0.00      0.00      0.00         1\n",
            "         574       0.00      0.00      0.00         6\n",
            "         575       0.00      0.00      0.00         1\n",
            "         576       0.00      0.00      0.00         1\n",
            "         577       0.00      0.00      0.00         2\n",
            "         578       0.00      0.00      0.00         5\n",
            "         579       0.00      0.00      0.00         8\n",
            "         580       0.00      0.00      0.00         2\n",
            "         581       0.00      0.00      0.00         1\n",
            "         582       0.00      0.00      0.00         2\n",
            "         583       0.00      0.00      0.00         2\n",
            "         584       0.00      0.00      0.00         8\n",
            "         585       0.00      0.00      0.00         2\n",
            "         586       0.00      0.00      0.00         9\n",
            "         587       0.00      0.00      0.00         3\n",
            "         588       0.00      0.00      0.00        12\n",
            "         589       0.00      0.00      0.00        12\n",
            "         591       0.00      0.00      0.00         5\n",
            "         592       0.00      0.00      0.00         8\n",
            "         595       0.00      0.00      0.00         2\n",
            "         596       0.00      0.00      0.00        11\n",
            "         597       0.00      0.00      0.00         7\n",
            "         598       0.00      0.00      0.00         2\n",
            "         599       0.00      0.00      0.00         7\n",
            "         600       0.00      0.00      0.00         9\n",
            "         601       0.00      0.00      0.00         6\n",
            "         602       0.00      0.00      0.00         2\n",
            "         603       0.00      0.00      0.00         3\n",
            "         604       0.00      0.00      0.00         5\n",
            "         605       0.00      0.00      0.00        10\n",
            "         606       0.00      0.00      0.00         1\n",
            "         607       0.00      0.00      0.00         1\n",
            "         608       0.00      0.00      0.00         7\n",
            "         609       0.00      0.00      0.00         1\n",
            "         610       0.00      0.00      0.00         2\n",
            "         611       0.00      0.00      0.00         1\n",
            "         612       0.00      0.00      0.00         2\n",
            "         614       0.00      0.00      0.00        10\n",
            "         615       0.00      0.00      0.00         2\n",
            "         616       0.00      0.00      0.00         1\n",
            "         617       0.00      0.00      0.00        11\n",
            "         618       0.00      0.00      0.00         1\n",
            "         619       0.00      0.00      0.00         2\n",
            "         620       0.00      0.00      0.00         8\n",
            "         622       0.00      0.00      0.00        19\n",
            "         623       0.00      0.00      0.00         1\n",
            "         625       0.00      0.00      0.00         3\n",
            "         626       0.00      0.00      0.00         3\n",
            "         627       0.00      0.00      0.00         3\n",
            "         628       0.00      0.00      0.00         5\n",
            "         632       0.00      0.00      0.00         6\n",
            "         633       0.00      0.00      0.00         1\n",
            "         634       0.00      0.00      0.00         9\n",
            "         635       0.00      0.00      0.00         4\n",
            "         636       0.00      0.00      0.00         2\n",
            "         637       0.00      0.00      0.00        12\n",
            "         638       0.00      0.00      0.00         3\n",
            "         640       0.00      0.00      0.00         5\n",
            "         641       0.00      0.00      0.00         1\n",
            "         642       0.00      0.00      0.00         8\n",
            "         643       0.00      0.00      0.00         1\n",
            "         645       0.00      0.00      0.00         1\n",
            "         646       0.00      0.00      0.00         6\n",
            "         647       0.00      0.00      0.00        11\n",
            "         649       0.00      0.00      0.00         7\n",
            "         651       0.00      0.00      0.00         8\n",
            "         653       0.00      0.00      0.00        12\n",
            "         654       0.00      0.00      0.00         8\n",
            "         655       0.00      0.00      0.00         1\n",
            "         656       0.00      0.00      0.00         3\n",
            "         657       0.00      0.00      0.00         5\n",
            "         658       0.00      0.00      0.00         5\n",
            "         659       0.00      0.00      0.00         2\n",
            "         660       0.00      0.00      0.00         9\n",
            "         661       0.00      1.00      0.01        14\n",
            "         662       0.00      0.00      0.00         2\n",
            "         663       0.00      0.00      0.00         4\n",
            "         665       0.00      0.00      0.00         3\n",
            "         666       0.00      0.00      0.00         6\n",
            "         668       0.00      0.00      0.00         5\n",
            "         669       0.00      0.00      0.00         1\n",
            "         670       0.00      0.00      0.00         3\n",
            "         671       0.00      0.00      0.00         2\n",
            "         672       0.00      0.00      0.00        17\n",
            "         673       0.00      0.00      0.00         7\n",
            "         674       0.00      0.00      0.00         8\n",
            "         675       0.00      0.00      0.00         7\n",
            "         677       0.00      0.00      0.00         1\n",
            "         678       0.00      0.00      0.00         2\n",
            "         680       0.00      0.00      0.00         2\n",
            "         681       0.00      0.00      0.00         2\n",
            "         682       0.00      0.00      0.00         5\n",
            "         684       0.00      0.00      0.00         9\n",
            "         685       0.00      0.00      0.00         6\n",
            "         687       0.00      0.00      0.00         4\n",
            "         688       0.00      0.00      0.00         1\n",
            "         690       0.00      0.00      0.00         1\n",
            "         694       0.00      0.00      0.00         2\n",
            "         696       0.00      0.00      0.00         7\n",
            "         697       0.00      0.00      0.00         2\n",
            "         701       0.00      0.00      0.00         4\n",
            "         702       0.00      0.00      0.00         4\n",
            "         703       0.00      0.00      0.00         2\n",
            "         704       0.00      0.00      0.00         1\n",
            "         706       0.00      0.00      0.00         4\n",
            "         707       0.00      0.00      0.00         2\n",
            "         711       0.00      0.00      0.00         2\n",
            "         713       0.00      0.00      0.00         4\n",
            "         714       0.00      0.00      0.00         2\n",
            "         716       0.00      0.00      0.00         6\n",
            "         717       0.00      0.00      0.00         3\n",
            "         718       0.00      0.00      0.00         4\n",
            "         720       0.00      0.00      0.00         1\n",
            "         721       0.00      0.00      0.00         5\n",
            "         722       0.00      0.00      0.00         1\n",
            "         724       0.00      0.00      0.00         3\n",
            "         725       0.00      0.00      0.00         1\n",
            "         726       0.00      0.00      0.00         2\n",
            "         729       0.00      0.00      0.00         1\n",
            "         730       0.00      0.00      0.00        13\n",
            "         732       0.00      0.00      0.00         1\n",
            "         733       0.00      0.00      0.00         1\n",
            "         735       0.00      0.00      0.00         1\n",
            "         736       0.00      0.00      0.00         6\n",
            "         737       0.00      0.00      0.00         1\n",
            "         738       0.00      0.00      0.00         3\n",
            "         739       0.00      0.00      0.00         1\n",
            "         741       0.00      0.00      0.00         2\n",
            "         742       0.00      0.00      0.00         5\n",
            "         744       0.00      0.00      0.00         1\n",
            "         745       0.00      0.00      0.00         3\n",
            "         746       0.00      0.00      0.00         2\n",
            "         747       0.00      0.00      0.00         3\n",
            "         749       0.00      0.00      0.00         1\n",
            "         751       0.00      0.00      0.00         2\n",
            "         752       0.00      0.00      0.00         3\n",
            "         753       0.00      0.00      0.00         4\n",
            "         754       0.00      0.00      0.00         2\n",
            "         755       0.00      0.00      0.00         1\n",
            "         756       0.00      0.00      0.00         1\n",
            "         757       0.00      0.00      0.00         2\n",
            "         758       0.00      0.00      0.00         8\n",
            "         762       0.00      0.00      0.00         2\n",
            "         763       0.00      0.00      0.00         4\n",
            "         765       0.00      0.00      0.00         1\n",
            "         768       0.00      0.00      0.00         4\n",
            "         773       0.00      0.00      0.00         1\n",
            "         775       0.00      0.00      0.00         1\n",
            "         779       0.00      0.00      0.00         1\n",
            "         780       0.00      0.00      0.00         2\n",
            "         781       0.00      0.00      0.00         5\n",
            "         782       0.00      0.00      0.00         3\n",
            "         783       0.00      0.00      0.00         1\n",
            "         787       0.00      0.00      0.00         1\n",
            "         790       0.00      0.00      0.00         2\n",
            "         797       0.00      0.00      0.00         1\n",
            "         800       0.00      0.00      0.00         1\n",
            "         803       0.00      0.00      0.00         1\n",
            "         804       0.00      0.00      0.00         1\n",
            "         805       0.00      0.00      0.00         2\n",
            "         806       0.00      0.00      0.00         3\n",
            "         807       0.00      0.00      0.00         2\n",
            "         808       0.00      0.00      0.00         1\n",
            "         810       0.00      0.00      0.00         3\n",
            "         812       0.00      0.00      0.00         2\n",
            "         813       0.00      0.00      0.00         3\n",
            "         821       0.00      0.00      0.00         2\n",
            "\n",
            "    accuracy                           0.00      2991\n",
            "   macro avg       0.00      0.00      0.00      2991\n",
            "weighted avg       0.00      0.00      0.00      2991\n",
            "\n"
          ],
          "name": "stdout"
        },
        {
          "output_type": "stream",
          "text": [
            "/usr/local/lib/python3.6/dist-packages/sklearn/metrics/_classification.py:1272: UndefinedMetricWarning: Precision and F-score are ill-defined and being set to 0.0 in labels with no predicted samples. Use `zero_division` parameter to control this behavior.\n",
            "  _warn_prf(average, modifier, msg_start, len(result))\n"
          ],
          "name": "stderr"
        }
      ]
    },
    {
      "cell_type": "markdown",
      "metadata": {
        "id": "4WxwzgyDIKAb"
      },
      "source": [
        "____________\n",
        "______________"
      ]
    },
    {
      "cell_type": "markdown",
      "metadata": {
        "id": "KtsNWAj8IKAb"
      },
      "source": [
        "# TensorFlow Keras"
      ]
    },
    {
      "cell_type": "markdown",
      "metadata": {
        "id": "P0sMq47RIKAc"
      },
      "source": [
        "### Create the Model"
      ]
    },
    {
      "cell_type": "code",
      "metadata": {
        "id": "HX-J9ZwUIKAc"
      },
      "source": [
        "from tensorflow.contrib.keras import models"
      ],
      "execution_count": null,
      "outputs": []
    },
    {
      "cell_type": "code",
      "metadata": {
        "id": "YbrWvYXoIKAe"
      },
      "source": [
        "dnn_keras_model = models.Sequential()"
      ],
      "execution_count": null,
      "outputs": []
    },
    {
      "cell_type": "markdown",
      "metadata": {
        "id": "I9dNRTgpIKAg"
      },
      "source": [
        "### Add Layers to the model"
      ]
    },
    {
      "cell_type": "code",
      "metadata": {
        "id": "NSqudRyAIKAg"
      },
      "source": [
        "from tensorflow.contrib.keras import layers"
      ],
      "execution_count": null,
      "outputs": []
    },
    {
      "cell_type": "code",
      "metadata": {
        "id": "n8OC8jUsIKAi"
      },
      "source": [
        "dnn_keras_model.add(layers.Dense(units=6,input_dim=6,activation='relu'))"
      ],
      "execution_count": null,
      "outputs": []
    },
    {
      "cell_type": "code",
      "metadata": {
        "id": "EpqPo7BTIKAl"
      },
      "source": [
        "dnn_keras_model.add(layers.Dense(units=6,activation='relu'))\n",
        "dnn_keras_model.add(layers.Dense(units=6,activation='relu'))"
      ],
      "execution_count": null,
      "outputs": []
    },
    {
      "cell_type": "code",
      "metadata": {
        "id": "xr9h97iZIKAm"
      },
      "source": [
        "dnn_keras_model.add(layers.Dense(units=850,activation='softmax'))"
      ],
      "execution_count": null,
      "outputs": []
    },
    {
      "cell_type": "markdown",
      "metadata": {
        "id": "xClRrvp9IKAo"
      },
      "source": [
        "### Compile the Model"
      ]
    },
    {
      "cell_type": "code",
      "metadata": {
        "id": "OFr8udb6IKAo"
      },
      "source": [
        "from tensorflow.contrib.keras import losses,optimizers,metrics"
      ],
      "execution_count": null,
      "outputs": []
    },
    {
      "cell_type": "code",
      "metadata": {
        "id": "XOA8pESmIKAt"
      },
      "source": [
        "# explore these\n",
        "# losses."
      ],
      "execution_count": null,
      "outputs": []
    },
    {
      "cell_type": "code",
      "metadata": {
        "id": "ujZHTY-7IKAx"
      },
      "source": [
        "#optimizers."
      ],
      "execution_count": null,
      "outputs": []
    },
    {
      "cell_type": "code",
      "metadata": {
        "id": "jMuPIJTWIKAz",
        "colab": {
          "base_uri": "https://localhost:8080/",
          "height": 34
        },
        "outputId": "caa70c7d-b081-40cd-cf69-1d17c9d2addd"
      },
      "source": [
        "losses.sparse_categorical_crossentropy"
      ],
      "execution_count": null,
      "outputs": [
        {
          "output_type": "execute_result",
          "data": {
            "text/plain": [
              "<function tensorflow.python.keras.losses.sparse_categorical_crossentropy>"
            ]
          },
          "metadata": {
            "tags": []
          },
          "execution_count": 230
        }
      ]
    },
    {
      "cell_type": "code",
      "metadata": {
        "id": "5z_TnKcBIKA0"
      },
      "source": [
        "dnn_keras_model.compile(optimizer='adam',\n",
        "              loss='sparse_categorical_crossentropy',\n",
        "              metrics=['accuracy'])"
      ],
      "execution_count": null,
      "outputs": []
    },
    {
      "cell_type": "markdown",
      "metadata": {
        "id": "4yAu47ONIKA3"
      },
      "source": [
        "\n",
        "\n",
        "```\n",
        "# This is formatted as code\n",
        "```\n",
        "\n",
        "### Train Model"
      ]
    },
    {
      "cell_type": "code",
      "metadata": {
        "id": "F8cUDnhW_xm2",
        "colab": {
          "base_uri": "https://localhost:8080/",
          "height": 34
        },
        "outputId": "fc64fc7f-e3fd-479d-fe48-5bfad47311d8"
      },
      "source": [
        "y_train"
      ],
      "execution_count": null,
      "outputs": [
        {
          "output_type": "execute_result",
          "data": {
            "text/plain": [
              "array([283, 563, 564, ..., 531, 127, 365])"
            ]
          },
          "metadata": {
            "tags": []
          },
          "execution_count": 232
        }
      ]
    },
    {
      "cell_type": "code",
      "metadata": {
        "id": "Uf_drZh2IKA3",
        "colab": {
          "base_uri": "https://localhost:8080/",
          "height": 1000
        },
        "outputId": "b5fd3cd4-774d-4098-a502-98ca1725556a"
      },
      "source": [
        "dnn_keras_model.fit(scaled_x_train,y_train,epochs=50)"
      ],
      "execution_count": null,
      "outputs": [
        {
          "output_type": "stream",
          "text": [
            "Train on 6977 samples\n",
            "Epoch 1/50\n",
            "6977/6977 [==============================] - 2s 298us/sample - loss: 6.6670 - acc: 0.0050\n",
            "Epoch 2/50\n",
            "6977/6977 [==============================] - 2s 288us/sample - loss: 6.5236 - acc: 0.0057\n",
            "Epoch 3/50\n",
            "6977/6977 [==============================] - 2s 297us/sample - loss: 6.4102 - acc: 0.0066\n",
            "Epoch 4/50\n",
            "6977/6977 [==============================] - 2s 293us/sample - loss: 6.3074 - acc: 0.0085\n",
            "Epoch 5/50\n",
            "6977/6977 [==============================] - 2s 290us/sample - loss: 6.2270 - acc: 0.0085\n",
            "Epoch 6/50\n",
            "6977/6977 [==============================] - 2s 289us/sample - loss: 6.1731 - acc: 0.0085\n",
            "Epoch 7/50\n",
            "6977/6977 [==============================] - 2s 294us/sample - loss: 6.1373 - acc: 0.0085\n",
            "Epoch 8/50\n",
            "6977/6977 [==============================] - 2s 286us/sample - loss: 6.1120 - acc: 0.0085\n",
            "Epoch 9/50\n",
            "6977/6977 [==============================] - 2s 287us/sample - loss: 6.0938 - acc: 0.0085\n",
            "Epoch 10/50\n",
            "6977/6977 [==============================] - 2s 285us/sample - loss: 6.0807 - acc: 0.0085\n",
            "Epoch 11/50\n",
            "6977/6977 [==============================] - 2s 287us/sample - loss: 6.0708 - acc: 0.0085\n",
            "Epoch 12/50\n",
            "6977/6977 [==============================] - 2s 290us/sample - loss: 6.0631 - acc: 0.0085\n",
            "Epoch 13/50\n",
            "6977/6977 [==============================] - 2s 290us/sample - loss: 6.0556 - acc: 0.0085\n",
            "Epoch 14/50\n",
            "6977/6977 [==============================] - 2s 293us/sample - loss: 6.0409 - acc: 0.0085\n",
            "Epoch 15/50\n",
            "6977/6977 [==============================] - 2s 292us/sample - loss: 6.0237 - acc: 0.0085\n",
            "Epoch 16/50\n",
            "6977/6977 [==============================] - 2s 289us/sample - loss: 6.0031 - acc: 0.0086\n",
            "Epoch 17/50\n",
            "6977/6977 [==============================] - 2s 284us/sample - loss: 5.9811 - acc: 0.0116\n",
            "Epoch 18/50\n",
            "6977/6977 [==============================] - 2s 289us/sample - loss: 5.9579 - acc: 0.0125\n",
            "Epoch 19/50\n",
            "6977/6977 [==============================] - 2s 290us/sample - loss: 5.9332 - acc: 0.0135\n",
            "Epoch 20/50\n",
            "6977/6977 [==============================] - 2s 290us/sample - loss: 5.9049 - acc: 0.0133\n",
            "Epoch 21/50\n",
            "6977/6977 [==============================] - 2s 287us/sample - loss: 5.8705 - acc: 0.0132\n",
            "Epoch 22/50\n",
            "6977/6977 [==============================] - 2s 285us/sample - loss: 5.8397 - acc: 0.0130\n",
            "Epoch 23/50\n",
            "6977/6977 [==============================] - 2s 288us/sample - loss: 5.8157 - acc: 0.0130\n",
            "Epoch 24/50\n",
            "6977/6977 [==============================] - 2s 280us/sample - loss: 5.7997 - acc: 0.0130\n",
            "Epoch 25/50\n",
            "6977/6977 [==============================] - 2s 282us/sample - loss: 5.7862 - acc: 0.0130\n",
            "Epoch 26/50\n",
            "6977/6977 [==============================] - 2s 287us/sample - loss: 5.7771 - acc: 0.0133\n",
            "Epoch 27/50\n",
            "6977/6977 [==============================] - 2s 287us/sample - loss: 5.7661 - acc: 0.0132\n",
            "Epoch 28/50\n",
            "6977/6977 [==============================] - 2s 287us/sample - loss: 5.7582 - acc: 0.0136\n",
            "Epoch 29/50\n",
            "6977/6977 [==============================] - 2s 297us/sample - loss: 5.7507 - acc: 0.0140\n",
            "Epoch 30/50\n",
            "6977/6977 [==============================] - 2s 279us/sample - loss: 5.7440 - acc: 0.0145\n",
            "Epoch 31/50\n",
            "6977/6977 [==============================] - 2s 284us/sample - loss: 5.7378 - acc: 0.0146\n",
            "Epoch 32/50\n",
            "6977/6977 [==============================] - 2s 285us/sample - loss: 5.7324 - acc: 0.0148\n",
            "Epoch 33/50\n",
            "6977/6977 [==============================] - 2s 287us/sample - loss: 5.7273 - acc: 0.0146\n",
            "Epoch 34/50\n",
            "6977/6977 [==============================] - 2s 293us/sample - loss: 5.7232 - acc: 0.0153\n",
            "Epoch 35/50\n",
            "6977/6977 [==============================] - 2s 288us/sample - loss: 5.7185 - acc: 0.0152\n",
            "Epoch 36/50\n",
            "6977/6977 [==============================] - 2s 292us/sample - loss: 5.7138 - acc: 0.0148\n",
            "Epoch 37/50\n",
            "6977/6977 [==============================] - 2s 307us/sample - loss: 5.7108 - acc: 0.0153\n",
            "Epoch 38/50\n",
            "6977/6977 [==============================] - 2s 305us/sample - loss: 5.7070 - acc: 0.0152\n",
            "Epoch 39/50\n",
            "6977/6977 [==============================] - 2s 308us/sample - loss: 5.7041 - acc: 0.0150\n",
            "Epoch 40/50\n",
            "6977/6977 [==============================] - 2s 304us/sample - loss: 5.7014 - acc: 0.0152\n",
            "Epoch 41/50\n",
            "6977/6977 [==============================] - 2s 304us/sample - loss: 5.6987 - acc: 0.0156\n",
            "Epoch 42/50\n",
            "6977/6977 [==============================] - 2s 295us/sample - loss: 5.6953 - acc: 0.0148\n",
            "Epoch 43/50\n",
            "6977/6977 [==============================] - 2s 294us/sample - loss: 5.6917 - acc: 0.0152\n",
            "Epoch 44/50\n",
            "6977/6977 [==============================] - 2s 303us/sample - loss: 5.6901 - acc: 0.0155\n",
            "Epoch 45/50\n",
            "6977/6977 [==============================] - 2s 297us/sample - loss: 5.6863 - acc: 0.0149\n",
            "Epoch 46/50\n",
            "6977/6977 [==============================] - 2s 291us/sample - loss: 5.6845 - acc: 0.0153\n",
            "Epoch 47/50\n",
            "6977/6977 [==============================] - 2s 285us/sample - loss: 5.6816 - acc: 0.0149\n",
            "Epoch 48/50\n",
            "6977/6977 [==============================] - 2s 290us/sample - loss: 5.6785 - acc: 0.0146\n",
            "Epoch 49/50\n",
            "6977/6977 [==============================] - 2s 293us/sample - loss: 5.6754 - acc: 0.0146\n",
            "Epoch 50/50\n",
            "6977/6977 [==============================] - 2s 291us/sample - loss: 5.6731 - acc: 0.0146\n"
          ],
          "name": "stdout"
        },
        {
          "output_type": "execute_result",
          "data": {
            "text/plain": [
              "<tensorflow.python.keras.callbacks.History at 0x7fbbfde71da0>"
            ]
          },
          "metadata": {
            "tags": []
          },
          "execution_count": 233
        }
      ]
    },
    {
      "cell_type": "code",
      "metadata": {
        "id": "jS83XJIlIKA5"
      },
      "source": [
        "predictions = dnn_keras_model.predict_classes(scaled_x_test)"
      ],
      "execution_count": null,
      "outputs": []
    },
    {
      "cell_type": "code",
      "metadata": {
        "id": "fwnzFG1MIKA7",
        "colab": {
          "base_uri": "https://localhost:8080/",
          "height": 1000
        },
        "outputId": "34eb3d73-7233-4bd2-b5a8-d833dc6bc178"
      },
      "source": [
        "print(classification_report(predictions,y_test))"
      ],
      "execution_count": null,
      "outputs": [
        {
          "output_type": "stream",
          "text": [
            "              precision    recall  f1-score   support\n",
            "\n",
            "         104       0.00      0.00      0.00         0\n",
            "         105       0.00      0.00      0.00         0\n",
            "         108       0.00      0.00      0.00         0\n",
            "         109       0.00      0.00      0.00         0\n",
            "         111       0.00      0.00      0.00         0\n",
            "         112       0.00      0.00      0.00         0\n",
            "         113       0.00      0.00      0.00         0\n",
            "         115       0.00      0.00      0.00         0\n",
            "         116       0.00      0.00      0.00         0\n",
            "         117       0.00      0.00      0.00         0\n",
            "         120       0.00      0.00      0.00         0\n",
            "         121       0.00      0.00      0.00         0\n",
            "         123       0.00      0.00      0.00         0\n",
            "         126       0.00      0.00      0.00         0\n",
            "         127       0.00      0.00      0.00         0\n",
            "         128       0.00      0.00      0.00         0\n",
            "         130       0.00      0.00      0.00         0\n",
            "         131       0.00      0.00      0.00         0\n",
            "         140       0.00      0.00      0.00         0\n",
            "         141       0.00      0.00      0.00         0\n",
            "         145       0.00      0.00      0.00         0\n",
            "         147       0.00      0.00      0.00         0\n",
            "         148       0.00      0.00      0.00         0\n",
            "         149       0.00      0.00      0.00         0\n",
            "         150       0.00      0.00      0.00         0\n",
            "         151       0.00      0.00      0.00         0\n",
            "         152       0.00      0.00      0.00         0\n",
            "         153       0.00      0.00      0.00         0\n",
            "         154       0.00      0.00      0.00         0\n",
            "         155       0.00      0.00      0.00         0\n",
            "         156       0.00      0.00      0.00         0\n",
            "         157       0.00      0.00      0.00         0\n",
            "         158       0.00      0.00      0.00         0\n",
            "         159       0.00      0.00      0.00         0\n",
            "         165       0.00      0.00      0.00         0\n",
            "         166       0.00      0.00      0.00         0\n",
            "         167       0.00      0.00      0.00         0\n",
            "         169       0.00      0.00      0.00         0\n",
            "         170       0.00      0.00      0.00         0\n",
            "         171       0.00      0.00      0.00         0\n",
            "         172       0.00      0.00      0.00         0\n",
            "         173       0.00      0.00      0.00         0\n",
            "         174       0.00      0.00      0.00         0\n",
            "         175       0.00      0.00      0.00         0\n",
            "         176       0.00      0.00      0.00         0\n",
            "         177       0.00      0.00      0.00         0\n",
            "         178       0.00      0.00      0.00         0\n",
            "         179       0.00      0.00      0.00         0\n",
            "         180       0.00      0.00      0.00         0\n",
            "         181       0.00      0.00      0.00         0\n",
            "         182       0.00      0.00      0.00         0\n",
            "         183       0.00      0.00      0.00         0\n",
            "         185       0.00      0.00      0.00         0\n",
            "         186       0.00      0.00      0.00         0\n",
            "         187       0.00      0.00      0.00         0\n",
            "         188       0.00      0.00      0.00         0\n",
            "         189       0.00      0.00      0.00         0\n",
            "         190       0.00      0.00      0.00         0\n",
            "         191       0.00      0.00      0.00         0\n",
            "         192       0.00      0.00      0.00         0\n",
            "         193       0.00      0.00      0.00         0\n",
            "         194       0.00      0.00      0.00         0\n",
            "         195       0.00      0.00      0.00         0\n",
            "         196       0.00      0.00      0.00         0\n",
            "         197       0.00      0.00      0.00         0\n",
            "         198       0.00      0.00      0.00         0\n",
            "         199       0.00      0.00      0.00         0\n",
            "         200       0.00      0.00      0.00         0\n",
            "         201       0.00      0.00      0.00         0\n",
            "         202       0.00      0.00      0.00         0\n",
            "         203       0.00      0.00      0.00         0\n",
            "         204       0.00      0.00      0.00         0\n",
            "         205       0.00      0.00      0.00         0\n",
            "         206       0.00      0.00      0.00         0\n",
            "         207       0.00      0.00      0.00         0\n",
            "         208       0.00      0.00      0.00         0\n",
            "         209       0.00      0.00      0.00         0\n",
            "         210       0.00      0.00      0.00         0\n",
            "         211       0.00      0.00      0.00         0\n",
            "         213       0.00      0.00      0.00         0\n",
            "         214       0.00      0.00      0.00         0\n",
            "         216       0.00      0.00      0.00         0\n",
            "         217       0.00      0.00      0.00         0\n",
            "         218       0.00      0.00      0.00         0\n",
            "         219       0.00      0.00      0.00         0\n",
            "         220       0.00      0.00      0.00         0\n",
            "         221       0.00      0.00      0.00         0\n",
            "         222       0.00      0.00      0.00         0\n",
            "         223       0.00      0.00      0.00         0\n",
            "         225       0.00      0.00      0.00         0\n",
            "         226       0.00      0.00      0.00         0\n",
            "         228       0.00      0.00      0.00         0\n",
            "         229       0.00      0.00      0.00         0\n",
            "         231       0.00      0.00      0.00         0\n",
            "         232       0.00      0.00      0.00         0\n",
            "         233       0.00      0.00      0.00         0\n",
            "         234       0.00      0.00      0.00         0\n",
            "         235       0.00      0.00      0.00         0\n",
            "         236       0.00      0.00      0.00         0\n",
            "         237       0.00      0.00      0.00         0\n",
            "         238       0.00      0.00      0.00         0\n",
            "         239       0.00      0.00      0.00         0\n",
            "         240       0.00      0.00      0.00         0\n",
            "         241       0.00      0.00      0.00         0\n",
            "         242       0.00      0.00      0.00         0\n",
            "         243       0.89      0.01      0.02      1647\n",
            "         244       0.00      0.00      0.00         0\n",
            "         246       0.00      0.00      0.00         0\n",
            "         247       0.00      0.00      0.00         0\n",
            "         248       0.00      0.00      0.00         0\n",
            "         249       0.00      0.00      0.00         0\n",
            "         250       0.00      0.00      0.00         0\n",
            "         251       0.00      0.00      0.00         0\n",
            "         252       0.00      0.00      0.00         0\n",
            "         253       0.00      0.00      0.00         0\n",
            "         254       0.00      0.00      0.00         0\n",
            "         255       0.00      0.00      0.00         0\n",
            "         256       0.00      0.00      0.00         0\n",
            "         257       0.00      0.00      0.00         0\n",
            "         258       0.00      0.00      0.00         0\n",
            "         259       0.00      0.00      0.00         0\n",
            "         260       0.00      0.00      0.00         0\n",
            "         261       0.00      0.00      0.00         0\n",
            "         262       0.00      0.00      0.00         0\n",
            "         263       0.00      0.00      0.00         0\n",
            "         264       0.00      0.00      0.00         0\n",
            "         265       0.00      0.00      0.00         0\n",
            "         266       0.00      0.00      0.00         0\n",
            "         267       0.00      0.00      0.00         0\n",
            "         268       0.00      0.00      0.00         0\n",
            "         269       0.00      0.00      0.00         0\n",
            "         270       0.00      0.00      0.00         0\n",
            "         271       0.00      0.00      0.00         0\n",
            "         272       0.00      0.00      0.00         0\n",
            "         273       0.00      0.00      0.00         0\n",
            "         274       0.00      0.00      0.00         0\n",
            "         275       0.00      0.00      0.00         0\n",
            "         276       0.00      0.00      0.00         0\n",
            "         277       0.00      0.00      0.00         0\n",
            "         278       0.00      0.00      0.00         0\n",
            "         279       0.00      0.00      0.00         0\n",
            "         280       0.00      0.00      0.00         0\n",
            "         281       0.00      0.00      0.00         0\n",
            "         282       0.00      0.00      0.00         0\n",
            "         283       0.00      0.00      0.00         0\n",
            "         284       0.00      0.00      0.00         0\n",
            "         285       0.00      0.00      0.00         0\n",
            "         286       0.00      0.00      0.00         0\n",
            "         287       0.00      0.00      0.00         0\n",
            "         288       0.00      0.00      0.00         0\n",
            "         289       0.00      0.00      0.00         0\n",
            "         290       0.00      0.00      0.00         0\n",
            "         291       0.00      0.00      0.00         0\n",
            "         292       0.00      0.00      0.00         0\n",
            "         293       0.00      0.00      0.00         0\n",
            "         295       0.05      0.01      0.01       183\n",
            "         296       0.00      0.00      0.00         0\n",
            "         297       0.00      0.00      0.00         0\n",
            "         298       0.00      0.00      0.00         0\n",
            "         299       0.00      0.00      0.00         0\n",
            "         300       0.00      0.00      0.00         0\n",
            "         301       0.00      0.00      0.00         0\n",
            "         302       0.00      0.00      0.00         0\n",
            "         303       0.00      0.00      0.00         0\n",
            "         304       0.00      0.00      0.00         0\n",
            "         305       0.00      0.00      0.00         0\n",
            "         306       0.00      0.00      0.00         0\n",
            "         308       0.00      0.00      0.00         0\n",
            "         309       0.00      0.00      0.00         0\n",
            "         310       0.00      0.00      0.00         0\n",
            "         312       0.00      0.00      0.00         0\n",
            "         313       0.00      0.00      0.00         0\n",
            "         314       0.00      0.00      0.00         0\n",
            "         315       0.00      0.00      0.00         0\n",
            "         316       0.00      0.00      0.00         0\n",
            "         317       0.00      0.00      0.00         0\n",
            "         318       0.00      0.00      0.00         0\n",
            "         319       0.00      0.00      0.00         0\n",
            "         320       0.00      0.00      0.00         0\n",
            "         321       0.00      0.00      0.00         0\n",
            "         322       0.00      0.00      0.00         0\n",
            "         323       0.00      0.00      0.00         0\n",
            "         324       0.00      0.00      0.00         0\n",
            "         325       0.00      0.00      0.00         0\n",
            "         326       0.00      0.00      0.00         0\n",
            "         327       0.00      0.00      0.00         0\n",
            "         328       0.00      0.00      0.00         0\n",
            "         329       0.00      0.00      0.00         0\n",
            "         330       0.00      0.00      0.00         0\n",
            "         331       0.00      0.00      0.00         0\n",
            "         332       0.00      0.00      0.00         0\n",
            "         333       0.00      0.00      0.00         0\n",
            "         334       0.00      0.00      0.00         0\n",
            "         335       0.00      0.00      0.00         0\n",
            "         336       0.00      0.00      0.00         0\n",
            "         337       0.00      0.00      0.00         0\n",
            "         338       0.00      0.00      0.00         0\n",
            "         339       0.00      0.00      0.00         0\n",
            "         341       0.00      0.00      0.00         0\n",
            "         342       0.00      0.00      0.00         0\n",
            "         343       0.00      0.00      0.00         0\n",
            "         344       0.00      0.00      0.00         0\n",
            "         345       0.00      0.00      0.00         0\n",
            "         346       0.00      0.00      0.00         0\n",
            "         347       0.00      0.00      0.00         0\n",
            "         348       0.00      0.00      0.00         0\n",
            "         349       0.00      0.00      0.00         0\n",
            "         350       0.00      0.00      0.00         0\n",
            "         351       0.00      0.00      0.00         0\n",
            "         352       0.00      0.00      0.00         0\n",
            "         354       0.00      0.00      0.00         0\n",
            "         355       0.00      0.00      0.00         0\n",
            "         357       0.00      0.00      0.00         0\n",
            "         358       0.00      0.00      0.00         0\n",
            "         359       0.00      0.00      0.00         0\n",
            "         360       0.00      0.00      0.00         0\n",
            "         361       0.00      0.00      0.00         0\n",
            "         362       0.00      0.00      0.00         0\n",
            "         363       0.00      0.00      0.00         0\n",
            "         364       0.00      0.00      0.00         0\n",
            "         365       0.00      0.00      0.00         0\n",
            "         366       0.00      0.00      0.00         0\n",
            "         367       0.00      0.00      0.00         0\n",
            "         368       0.00      0.00      0.00         0\n",
            "         369       0.00      0.00      0.00         0\n",
            "         370       0.00      0.00      0.00         0\n",
            "         371       0.00      0.00      0.00         0\n",
            "         372       0.00      0.00      0.00         0\n",
            "         373       0.00      0.00      0.00         0\n",
            "         375       0.00      0.00      0.00         0\n",
            "         376       0.00      0.00      0.00         0\n",
            "         377       0.00      0.00      0.00         0\n",
            "         379       0.00      0.00      0.00         0\n",
            "         380       0.00      0.00      0.00         0\n",
            "         381       0.00      0.00      0.00         0\n",
            "         382       0.00      0.00      0.00         0\n",
            "         383       0.00      0.00      0.00         0\n",
            "         384       0.00      0.00      0.00         0\n",
            "         385       0.00      0.00      0.00         0\n",
            "         386       0.00      0.00      0.00         0\n",
            "         388       0.00      0.00      0.00         0\n",
            "         389       0.00      0.00      0.00         0\n",
            "         392       0.00      0.00      0.00         0\n",
            "         393       0.00      0.00      0.00         0\n",
            "         394       0.00      0.00      0.00         0\n",
            "         395       0.00      0.00      0.00         0\n",
            "         397       0.00      0.00      0.00         0\n",
            "         398       0.00      0.00      0.00         0\n",
            "         399       0.00      0.00      0.00         0\n",
            "         400       0.00      0.00      0.00         0\n",
            "         401       0.00      0.00      0.00         0\n",
            "         402       0.00      0.00      0.00         0\n",
            "         403       0.00      0.00      0.00         0\n",
            "         404       0.00      0.00      0.00         0\n",
            "         406       0.00      0.00      0.00         0\n",
            "         407       0.00      0.00      0.00         0\n",
            "         410       0.00      0.00      0.00         0\n",
            "         411       0.00      0.00      0.00         0\n",
            "         413       0.00      0.00      0.00         0\n",
            "         414       0.00      0.00      0.00         0\n",
            "         415       0.00      0.00      0.00         0\n",
            "         416       0.00      0.00      0.00         0\n",
            "         417       0.00      0.00      0.00         0\n",
            "         418       0.00      0.00      0.00         0\n",
            "         419       0.00      0.00      0.00         0\n",
            "         420       0.00      0.00      0.00         0\n",
            "         421       0.00      0.00      0.00         0\n",
            "         422       0.00      0.00      0.00         0\n",
            "         423       0.00      0.00      0.00         0\n",
            "         424       0.00      0.00      0.00         0\n",
            "         425       0.00      0.00      0.00         0\n",
            "         426       0.00      0.00      0.00         0\n",
            "         427       0.00      0.00      0.00         0\n",
            "         429       0.00      0.00      0.00         0\n",
            "         431       0.00      0.00      0.00         0\n",
            "         432       0.00      0.00      0.00         0\n",
            "         434       0.00      0.00      0.00         0\n",
            "         438       0.00      0.00      0.00         0\n",
            "         440       0.00      0.00      0.00         0\n",
            "         441       0.00      0.00      0.00         0\n",
            "         442       0.00      0.00      0.00         0\n",
            "         443       0.00      0.00      0.00         0\n",
            "         445       0.00      0.00      0.00         0\n",
            "         446       0.00      0.00      0.00         0\n",
            "         447       0.00      0.00      0.00         0\n",
            "         448       0.00      0.00      0.00         0\n",
            "         449       0.00      0.00      0.00         0\n",
            "         450       0.00      0.00      0.00         0\n",
            "         451       0.00      0.00      0.00         0\n",
            "         452       0.00      0.00      0.00         0\n",
            "         453       0.00      0.00      0.00         0\n",
            "         454       0.00      0.00      0.00         0\n",
            "         455       0.00      0.00      0.00         0\n",
            "         457       0.00      0.00      0.00         0\n",
            "         458       0.00      0.00      0.00         0\n",
            "         459       0.00      0.00      0.00         0\n",
            "         461       0.00      0.00      0.00         0\n",
            "         462       0.00      0.00      0.00         0\n",
            "         463       0.00      0.00      0.00         0\n",
            "         464       0.00      0.00      0.00         0\n",
            "         467       0.00      0.00      0.00         0\n",
            "         469       0.00      0.00      0.00         0\n",
            "         470       0.00      0.00      0.00         0\n",
            "         471       0.00      0.00      0.00         0\n",
            "         472       0.00      0.00      0.00         0\n",
            "         473       0.00      0.00      0.00         0\n",
            "         474       0.00      0.00      0.00         0\n",
            "         475       0.00      0.00      0.00         0\n",
            "         476       0.00      0.00      0.00         0\n",
            "         479       0.00      0.00      0.00         0\n",
            "         480       0.00      0.00      0.00         0\n",
            "         481       0.00      0.00      0.00         0\n",
            "         482       0.00      0.00      0.00         0\n",
            "         483       0.00      0.00      0.00         0\n",
            "         484       0.00      0.00      0.00         0\n",
            "         485       0.00      0.00      0.00         0\n",
            "         486       0.00      0.00      0.00         0\n",
            "         487       0.00      0.00      0.00         0\n",
            "         488       0.00      0.00      0.00         0\n",
            "         489       0.00      0.00      0.00         0\n",
            "         490       0.00      0.00      0.00         0\n",
            "         491       0.00      0.00      0.00         0\n",
            "         493       0.00      0.00      0.00         0\n",
            "         494       0.00      0.00      0.00         0\n",
            "         496       0.00      0.00      0.00         0\n",
            "         499       0.00      0.00      0.00         0\n",
            "         500       0.00      0.00      0.00         0\n",
            "         501       0.00      0.00      0.00         0\n",
            "         503       0.00      0.00      0.00         0\n",
            "         505       0.00      0.00      0.00         0\n",
            "         506       0.00      0.00      0.00         0\n",
            "         507       0.00      0.00      0.00         0\n",
            "         508       0.00      0.00      0.00         0\n",
            "         509       0.00      0.00      0.00         0\n",
            "         510       0.00      0.00      0.00         0\n",
            "         511       0.00      0.00      0.00         0\n",
            "         513       0.00      0.00      0.00         0\n",
            "         514       0.00      0.00      0.00         0\n",
            "         515       0.00      0.00      0.00         0\n",
            "         516       0.00      0.00      0.00         0\n",
            "         517       0.00      0.00      0.00         0\n",
            "         518       0.00      0.00      0.00         0\n",
            "         519       0.00      0.00      0.00         0\n",
            "         520       0.00      0.00      0.00         0\n",
            "         521       0.00      0.00      0.00         0\n",
            "         522       0.00      0.00      0.00         0\n",
            "         524       0.00      0.00      0.00         0\n",
            "         525       0.00      0.00      0.00         0\n",
            "         526       0.00      0.00      0.00         0\n",
            "         527       0.00      0.00      0.00         0\n",
            "         530       0.00      0.00      0.00         0\n",
            "         531       0.00      0.00      0.00         0\n",
            "         532       0.00      0.00      0.00         0\n",
            "         533       0.00      0.00      0.00         0\n",
            "         534       0.00      0.00      0.00         0\n",
            "         535       0.00      0.00      0.00         0\n",
            "         537       0.00      0.00      0.00         0\n",
            "         539       0.00      0.00      0.00         0\n",
            "         540       0.00      0.00      0.00         0\n",
            "         541       0.00      0.00      0.00         0\n",
            "         542       0.00      0.00      0.00         0\n",
            "         544       0.00      0.00      0.00         0\n",
            "         547       0.00      0.00      0.00         0\n",
            "         548       0.00      0.00      0.00         0\n",
            "         549       0.00      0.00      0.00         0\n",
            "         550       0.00      0.00      0.00         0\n",
            "         551       0.00      0.00      0.00         0\n",
            "         552       0.00      0.00      0.00         0\n",
            "         554       0.00      0.00      0.00         0\n",
            "         555       0.00      0.00      0.00         0\n",
            "         556       0.00      0.00      0.00         0\n",
            "         558       0.00      0.00      0.00         0\n",
            "         559       0.00      0.00      0.00         0\n",
            "         560       0.00      0.00      0.00         0\n",
            "         561       0.00      0.00      0.00         0\n",
            "         564       0.00      0.00      0.00         0\n",
            "         565       0.00      0.00      0.00         0\n",
            "         566       0.00      0.00      0.00         0\n",
            "         567       0.00      0.00      0.00         0\n",
            "         568       0.00      0.00      0.00         0\n",
            "         569       0.00      0.00      0.00         0\n",
            "         570       0.00      0.00      0.00         0\n",
            "         571       0.00      0.00      0.00         0\n",
            "         572       0.00      0.00      0.00         0\n",
            "         573       0.00      0.00      0.00         0\n",
            "         574       0.00      0.00      0.00         0\n",
            "         575       0.00      0.00      0.00         0\n",
            "         576       0.00      0.00      0.00         0\n",
            "         577       0.00      0.00      0.00         0\n",
            "         578       0.00      0.00      0.00         0\n",
            "         579       0.00      0.00      0.00         0\n",
            "         580       0.00      0.00      0.00         0\n",
            "         581       0.00      0.00      0.00         0\n",
            "         582       0.00      0.00      0.00         0\n",
            "         583       0.00      0.00      0.00         0\n",
            "         584       0.00      0.00      0.00         0\n",
            "         585       0.00      0.00      0.00         0\n",
            "         586       0.00      0.00      0.00         0\n",
            "         587       0.00      0.00      0.00         0\n",
            "         588       0.00      0.00      0.00         0\n",
            "         589       0.00      0.00      0.00         0\n",
            "         591       0.00      0.00      0.00         0\n",
            "         592       0.00      0.00      0.00         0\n",
            "         595       0.00      0.00      0.00         0\n",
            "         596       0.00      0.00      0.00         0\n",
            "         597       0.00      0.00      0.00         0\n",
            "         598       0.00      0.00      0.00         0\n",
            "         599       0.00      0.00      0.00         0\n",
            "         600       0.00      0.00      0.00         0\n",
            "         601       0.00      0.00      0.00         0\n",
            "         602       0.00      0.00      0.00         0\n",
            "         603       0.00      0.00      0.00         0\n",
            "         604       0.00      0.00      0.00         0\n",
            "         605       0.00      0.00      0.00         0\n",
            "         606       0.00      0.00      0.00         0\n",
            "         607       0.00      0.00      0.00         0\n",
            "         608       0.00      0.00      0.00         0\n",
            "         609       0.00      0.00      0.00         0\n",
            "         610       0.00      0.00      0.00         0\n",
            "         611       0.00      0.00      0.00         0\n",
            "         612       0.00      0.00      0.00         0\n",
            "         614       0.00      0.00      0.00         0\n",
            "         615       0.00      0.00      0.00         0\n",
            "         616       0.00      0.00      0.00         0\n",
            "         617       0.00      0.00      0.00         0\n",
            "         618       0.00      0.00      0.00         0\n",
            "         619       0.00      0.00      0.00         0\n",
            "         620       0.00      0.00      0.00         0\n",
            "         622       0.00      0.00      0.00         0\n",
            "         623       0.00      0.00      0.00         0\n",
            "         625       0.00      0.00      0.00         0\n",
            "         626       0.00      0.00      0.00         0\n",
            "         627       0.00      0.00      0.00         0\n",
            "         628       0.00      0.00      0.00         0\n",
            "         632       0.00      0.00      0.00         0\n",
            "         633       0.00      0.00      0.00         0\n",
            "         634       0.00      0.00      0.00         0\n",
            "         635       0.00      0.00      0.00         0\n",
            "         636       0.00      0.00      0.00         0\n",
            "         637       0.00      0.00      0.00         7\n",
            "         638       0.00      0.00      0.00         0\n",
            "         640       0.00      0.00      0.00         0\n",
            "         641       0.00      0.00      0.00         0\n",
            "         642       0.00      0.00      0.00         0\n",
            "         643       0.00      0.00      0.00         0\n",
            "         645       0.00      0.00      0.00         0\n",
            "         646       0.00      0.00      0.00         0\n",
            "         647       0.00      0.00      0.00         0\n",
            "         649       0.00      0.00      0.00         0\n",
            "         651       0.00      0.00      0.00         0\n",
            "         653       0.00      0.00      0.00         0\n",
            "         654       0.00      0.00      0.00         0\n",
            "         655       0.00      0.00      0.00         0\n",
            "         656       0.00      0.00      0.00         0\n",
            "         657       0.00      0.00      0.00         0\n",
            "         658       0.00      0.00      0.00         0\n",
            "         659       0.00      0.00      0.00         0\n",
            "         660       0.00      0.00      0.00         0\n",
            "         661       1.00      0.01      0.02      1154\n",
            "         662       0.00      0.00      0.00         0\n",
            "         663       0.00      0.00      0.00         0\n",
            "         665       0.00      0.00      0.00         0\n",
            "         666       0.00      0.00      0.00         0\n",
            "         668       0.00      0.00      0.00         0\n",
            "         669       0.00      0.00      0.00         0\n",
            "         670       0.00      0.00      0.00         0\n",
            "         671       0.00      0.00      0.00         0\n",
            "         672       0.00      0.00      0.00         0\n",
            "         673       0.00      0.00      0.00         0\n",
            "         674       0.00      0.00      0.00         0\n",
            "         675       0.00      0.00      0.00         0\n",
            "         677       0.00      0.00      0.00         0\n",
            "         678       0.00      0.00      0.00         0\n",
            "         680       0.00      0.00      0.00         0\n",
            "         681       0.00      0.00      0.00         0\n",
            "         682       0.00      0.00      0.00         0\n",
            "         684       0.00      0.00      0.00         0\n",
            "         685       0.00      0.00      0.00         0\n",
            "         687       0.00      0.00      0.00         0\n",
            "         688       0.00      0.00      0.00         0\n",
            "         690       0.00      0.00      0.00         0\n",
            "         694       0.00      0.00      0.00         0\n",
            "         696       0.00      0.00      0.00         0\n",
            "         697       0.00      0.00      0.00         0\n",
            "         701       0.00      0.00      0.00         0\n",
            "         702       0.00      0.00      0.00         0\n",
            "         703       0.00      0.00      0.00         0\n",
            "         704       0.00      0.00      0.00         0\n",
            "         706       0.00      0.00      0.00         0\n",
            "         707       0.00      0.00      0.00         0\n",
            "         711       0.00      0.00      0.00         0\n",
            "         713       0.00      0.00      0.00         0\n",
            "         714       0.00      0.00      0.00         0\n",
            "         716       0.00      0.00      0.00         0\n",
            "         717       0.00      0.00      0.00         0\n",
            "         718       0.00      0.00      0.00         0\n",
            "         720       0.00      0.00      0.00         0\n",
            "         721       0.00      0.00      0.00         0\n",
            "         722       0.00      0.00      0.00         0\n",
            "         724       0.00      0.00      0.00         0\n",
            "         725       0.00      0.00      0.00         0\n",
            "         726       0.00      0.00      0.00         0\n",
            "         729       0.00      0.00      0.00         0\n",
            "         730       0.00      0.00      0.00         0\n",
            "         732       0.00      0.00      0.00         0\n",
            "         733       0.00      0.00      0.00         0\n",
            "         735       0.00      0.00      0.00         0\n",
            "         736       0.00      0.00      0.00         0\n",
            "         737       0.00      0.00      0.00         0\n",
            "         738       0.00      0.00      0.00         0\n",
            "         739       0.00      0.00      0.00         0\n",
            "         741       0.00      0.00      0.00         0\n",
            "         742       0.00      0.00      0.00         0\n",
            "         744       0.00      0.00      0.00         0\n",
            "         745       0.00      0.00      0.00         0\n",
            "         746       0.00      0.00      0.00         0\n",
            "         747       0.00      0.00      0.00         0\n",
            "         749       0.00      0.00      0.00         0\n",
            "         751       0.00      0.00      0.00         0\n",
            "         752       0.00      0.00      0.00         0\n",
            "         753       0.00      0.00      0.00         0\n",
            "         754       0.00      0.00      0.00         0\n",
            "         755       0.00      0.00      0.00         0\n",
            "         756       0.00      0.00      0.00         0\n",
            "         757       0.00      0.00      0.00         0\n",
            "         758       0.00      0.00      0.00         0\n",
            "         762       0.00      0.00      0.00         0\n",
            "         763       0.00      0.00      0.00         0\n",
            "         765       0.00      0.00      0.00         0\n",
            "         768       0.00      0.00      0.00         0\n",
            "         773       0.00      0.00      0.00         0\n",
            "         775       0.00      0.00      0.00         0\n",
            "         779       0.00      0.00      0.00         0\n",
            "         780       0.00      0.00      0.00         0\n",
            "         781       0.00      0.00      0.00         0\n",
            "         782       0.00      0.00      0.00         0\n",
            "         783       0.00      0.00      0.00         0\n",
            "         787       0.00      0.00      0.00         0\n",
            "         790       0.00      0.00      0.00         0\n",
            "         797       0.00      0.00      0.00         0\n",
            "         800       0.00      0.00      0.00         0\n",
            "         803       0.00      0.00      0.00         0\n",
            "         804       0.00      0.00      0.00         0\n",
            "         805       0.00      0.00      0.00         0\n",
            "         806       0.00      0.00      0.00         0\n",
            "         807       0.00      0.00      0.00         0\n",
            "         808       0.00      0.00      0.00         0\n",
            "         810       0.00      0.00      0.00         0\n",
            "         812       0.00      0.00      0.00         0\n",
            "         813       0.00      0.00      0.00         0\n",
            "         821       0.00      0.00      0.00         0\n",
            "\n",
            "    accuracy                           0.01      2991\n",
            "   macro avg       0.00      0.00      0.00      2991\n",
            "weighted avg       0.88      0.01      0.02      2991\n",
            "\n"
          ],
          "name": "stdout"
        },
        {
          "output_type": "stream",
          "text": [
            "/usr/local/lib/python3.6/dist-packages/sklearn/metrics/_classification.py:1272: UndefinedMetricWarning: Recall and F-score are ill-defined and being set to 0.0 in labels with no true samples. Use `zero_division` parameter to control this behavior.\n",
            "  _warn_prf(average, modifier, msg_start, len(result))\n"
          ],
          "name": "stderr"
        }
      ]
    },
    {
      "cell_type": "markdown",
      "metadata": {
        "id": "Y-HzPCJZIKA-"
      },
      "source": [
        "# Layers API\n",
        "\n",
        "https://www.tensorflow.org/tutorials/layers"
      ]
    },
    {
      "cell_type": "markdown",
      "metadata": {
        "id": "e4CRyBPrIKA-"
      },
      "source": [
        "## Formating Data"
      ]
    },
    {
      "cell_type": "code",
      "metadata": {
        "id": "Tuv4lrjbIKA-"
      },
      "source": [
        "import pandas as pd\n",
        "from sklearn.datasets import load_wine\n",
        "from sklearn.model_selection import train_test_split\n",
        "from sklearn.preprocessing import MinMaxScaler"
      ],
      "execution_count": null,
      "outputs": []
    },
    {
      "cell_type": "markdown",
      "metadata": {
        "id": "uI_N43HqBoTu"
      },
      "source": [
        ""
      ]
    },
    {
      "cell_type": "code",
      "metadata": {
        "id": "xwd_U2m2IKBB"
      },
      "source": [
        "wine_data = load_wine()\n",
        "feat_data = wine_data['data']\n",
        "labels = wine_data['target']"
      ],
      "execution_count": null,
      "outputs": []
    },
    {
      "cell_type": "code",
      "metadata": {
        "id": "bw1EU-QDIKBD"
      },
      "source": [
        "X_train, X_test, y_train, y_test = train_test_split(feat_data,\n",
        "                                                    labels,\n",
        "                                                    test_size=0.3,\n",
        "                                                   random_state=101)"
      ],
      "execution_count": null,
      "outputs": []
    },
    {
      "cell_type": "code",
      "metadata": {
        "id": "Zogjt2ijIKBF"
      },
      "source": [
        "scaler = MinMaxScaler()\n",
        "scaled_x_train = scaler.fit_transform(X_train)\n",
        "scaled_x_test = scaler.transform(X_test)\n",
        "# ONE HOT ENCODED\n",
        "\n",
        "onehot_y_train = pd.get_dummies(y_train).values\n",
        "one_hot_y_test = pd.get_dummies(y_test).values"
      ],
      "execution_count": null,
      "outputs": []
    },
    {
      "cell_type": "markdown",
      "metadata": {
        "id": "xt8NofPhIKBH"
      },
      "source": [
        "### Parameters"
      ]
    },
    {
      "cell_type": "code",
      "metadata": {
        "id": "L9-p2uEHIKBH"
      },
      "source": [
        "num_feat = 124\n",
        "num_hidden1 = 124\n",
        "num_hidden2 = 124\n",
        "num_outputs = 13\n",
        "learning_rate = 0.01"
      ],
      "execution_count": null,
      "outputs": []
    },
    {
      "cell_type": "code",
      "metadata": {
        "id": "-hsnoXOmIKBJ"
      },
      "source": [
        "import tensorflow as tf\n",
        "from tensorflow.contrib.layers import fully_connected"
      ],
      "execution_count": null,
      "outputs": []
    },
    {
      "cell_type": "markdown",
      "metadata": {
        "id": "SymNIIm1IKBL"
      },
      "source": [
        "### Placeholder"
      ]
    },
    {
      "cell_type": "code",
      "metadata": {
        "id": "x0lr5Ku4IKBL"
      },
      "source": [
        "X = tf.placeholder(tf.float32,shape=[124,13])\n",
        "y_true = tf.placeholder(tf.float32,shape=[124,13])"
      ],
      "execution_count": null,
      "outputs": []
    },
    {
      "cell_type": "markdown",
      "metadata": {
        "id": "yEYnakDAIKBN"
      },
      "source": [
        "### Activation Function"
      ]
    },
    {
      "cell_type": "code",
      "metadata": {
        "id": "cES5-hSiIKBN"
      },
      "source": [
        "actf = tf.nn.relu"
      ],
      "execution_count": null,
      "outputs": []
    },
    {
      "cell_type": "markdown",
      "metadata": {
        "id": "05t35MObIKBQ"
      },
      "source": [
        "### Create Layers"
      ]
    },
    {
      "cell_type": "code",
      "metadata": {
        "id": "HhYAA1GyIKBR"
      },
      "source": [
        "hidden1 = fully_connected(X,num_hidden1,activation_fn=actf)"
      ],
      "execution_count": null,
      "outputs": []
    },
    {
      "cell_type": "code",
      "metadata": {
        "id": "A6Csnb29IKBS"
      },
      "source": [
        "hidden2 = fully_connected(hidden1,num_hidden2,activation_fn=actf)"
      ],
      "execution_count": null,
      "outputs": []
    },
    {
      "cell_type": "code",
      "metadata": {
        "id": "sQNnMshvIKBX"
      },
      "source": [
        "output = fully_connected(hidden2,num_outputs)"
      ],
      "execution_count": null,
      "outputs": []
    },
    {
      "cell_type": "markdown",
      "metadata": {
        "id": "_diPG7RFIKBZ"
      },
      "source": [
        "### Loss Function"
      ]
    },
    {
      "cell_type": "code",
      "metadata": {
        "id": "QaV5uPl6IKBZ"
      },
      "source": [
        "loss = tf.losses.softmax_cross_entropy(onehot_labels=y_true, logits=output)"
      ],
      "execution_count": null,
      "outputs": []
    },
    {
      "cell_type": "markdown",
      "metadata": {
        "id": "0GzkVHN-IKBb"
      },
      "source": [
        "### Optimizer"
      ]
    },
    {
      "cell_type": "code",
      "metadata": {
        "id": "_i2lAIQwIKBb"
      },
      "source": [
        "optimizer = tf.train.AdamOptimizer(learning_rate)\n",
        "train = optimizer.minimize(loss)"
      ],
      "execution_count": null,
      "outputs": []
    },
    {
      "cell_type": "markdown",
      "metadata": {
        "id": "M1InUrgSIKBd"
      },
      "source": [
        "### Init"
      ]
    },
    {
      "cell_type": "code",
      "metadata": {
        "id": "9yi-gVveIKBd",
        "colab": {
          "base_uri": "https://localhost:8080/",
          "height": 162
        },
        "outputId": "2684bf9e-96a9-476e-886b-87f0607e1de1"
      },
      "source": [
        "init = tf.global_variables_initializer()"
      ],
      "execution_count": 2,
      "outputs": [
        {
          "output_type": "error",
          "ename": "NameError",
          "evalue": "ignored",
          "traceback": [
            "\u001b[0;31m---------------------------------------------------------------------------\u001b[0m",
            "\u001b[0;31mNameError\u001b[0m                                 Traceback (most recent call last)",
            "\u001b[0;32m<ipython-input-2-515360f499c3>\u001b[0m in \u001b[0;36m<module>\u001b[0;34m()\u001b[0m\n\u001b[0;32m----> 1\u001b[0;31m \u001b[0minit\u001b[0m \u001b[0;34m=\u001b[0m \u001b[0mtf\u001b[0m\u001b[0;34m.\u001b[0m\u001b[0mglobal_variables_initializer\u001b[0m\u001b[0;34m(\u001b[0m\u001b[0;34m)\u001b[0m\u001b[0;34m\u001b[0m\u001b[0;34m\u001b[0m\u001b[0m\n\u001b[0m",
            "\u001b[0;31mNameError\u001b[0m: name 'tf' is not defined"
          ]
        }
      ]
    },
    {
      "cell_type": "code",
      "metadata": {
        "id": "kK2ZPfDHIKBh",
        "colab": {
          "base_uri": "https://localhost:8080/",
          "height": 229
        },
        "outputId": "6f258770-b670-4065-f713-b502e98a5761"
      },
      "source": [
        "training_steps = 1000\n",
        "with tf.Session() as sess:\n",
        "    sess.run(init)\n",
        "    \n",
        "    for i in range(training_steps):\n",
        "        sess.run(train,feed_dict={X:scaled_x_train,y_true:y_train})\n",
        "        \n",
        "    # Get Predictions\n",
        "    logits = output.eval(feed_dict={X:scaled_x_test})\n",
        "    \n",
        "    preds = tf.argmax(logits,axis=1)\n",
        "    \n",
        "    results = preds.eval()"
      ],
      "execution_count": 1,
      "outputs": [
        {
          "output_type": "error",
          "ename": "NameError",
          "evalue": "ignored",
          "traceback": [
            "\u001b[0;31m---------------------------------------------------------------------------\u001b[0m",
            "\u001b[0;31mNameError\u001b[0m                                 Traceback (most recent call last)",
            "\u001b[0;32m<ipython-input-1-29dfa297777d>\u001b[0m in \u001b[0;36m<module>\u001b[0;34m()\u001b[0m\n\u001b[1;32m      1\u001b[0m \u001b[0mtraining_steps\u001b[0m \u001b[0;34m=\u001b[0m \u001b[0;36m1000\u001b[0m\u001b[0;34m\u001b[0m\u001b[0;34m\u001b[0m\u001b[0m\n\u001b[0;32m----> 2\u001b[0;31m \u001b[0;32mwith\u001b[0m \u001b[0mtf\u001b[0m\u001b[0;34m.\u001b[0m\u001b[0mSession\u001b[0m\u001b[0;34m(\u001b[0m\u001b[0;34m)\u001b[0m \u001b[0;32mas\u001b[0m \u001b[0msess\u001b[0m\u001b[0;34m:\u001b[0m\u001b[0;34m\u001b[0m\u001b[0;34m\u001b[0m\u001b[0m\n\u001b[0m\u001b[1;32m      3\u001b[0m     \u001b[0msess\u001b[0m\u001b[0;34m.\u001b[0m\u001b[0mrun\u001b[0m\u001b[0;34m(\u001b[0m\u001b[0minit\u001b[0m\u001b[0;34m)\u001b[0m\u001b[0;34m\u001b[0m\u001b[0;34m\u001b[0m\u001b[0m\n\u001b[1;32m      4\u001b[0m \u001b[0;34m\u001b[0m\u001b[0m\n\u001b[1;32m      5\u001b[0m     \u001b[0;32mfor\u001b[0m \u001b[0mi\u001b[0m \u001b[0;32min\u001b[0m \u001b[0mrange\u001b[0m\u001b[0;34m(\u001b[0m\u001b[0mtraining_steps\u001b[0m\u001b[0;34m)\u001b[0m\u001b[0;34m:\u001b[0m\u001b[0;34m\u001b[0m\u001b[0;34m\u001b[0m\u001b[0m\n",
            "\u001b[0;31mNameError\u001b[0m: name 'tf' is not defined"
          ]
        }
      ]
    },
    {
      "cell_type": "code",
      "metadata": {
        "id": "M8JmJu7nIKBk"
      },
      "source": [
        "from sklearn.metrics import confusion_matrix,classification_report\n",
        "print(classification_report(results,y_test))"
      ],
      "execution_count": null,
      "outputs": []
    },
    {
      "cell_type": "code",
      "metadata": {
        "id": "50IshNsRIKBm"
      },
      "source": [
        ""
      ],
      "execution_count": null,
      "outputs": []
    },
    {
      "cell_type": "code",
      "metadata": {
        "id": "G6D4H-K8IKBo"
      },
      "source": [
        ""
      ],
      "execution_count": null,
      "outputs": []
    },
    {
      "cell_type": "code",
      "metadata": {
        "id": "zmUfpDm23yiS"
      },
      "source": [
        ""
      ],
      "execution_count": null,
      "outputs": []
    },
    {
      "cell_type": "code",
      "metadata": {
        "id": "_fDtvxzS30A-"
      },
      "source": [
        "\n",
        "\n",
        "#feat_data = dataset[['C', 'Cr', 'Mn', 'Ni', 'Si', 'CR']].values\n"
      ],
      "execution_count": null,
      "outputs": []
    }
  ]
}